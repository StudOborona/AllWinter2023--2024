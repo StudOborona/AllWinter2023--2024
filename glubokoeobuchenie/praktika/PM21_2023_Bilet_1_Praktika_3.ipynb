{
 "cells": [
  {
   "cell_type": "markdown",
   "id": "a28a0f35-cfcb-48d7-9e72-526334c8d256",
   "metadata": {},
   "source": [
    "3 вопрос (20 баллов) \n",
    "Реализовать методы forward и backward в полносвязном слое. Входные данные обязательно должны быть в \n",
    "виде батчей (то есть кол-во измерений в inputs 2). Нельзя использовать готовую реализацию обратного \n",
    "распространения из PyTorch.\n",
    "Шаблон кода, который можно использовать за основу: https://pastebin.com/Ugvjf6PA"
   ]
  },
  {
   "cell_type": "code",
   "execution_count": 1,
   "id": "22c3d462-c9fa-4415-aaf6-3e880e1f04f5",
   "metadata": {},
   "outputs": [
    {
     "data": {
      "text/plain": [
       "(tensor([[-0.0217,  0.0088],\n",
       "         [ 0.0057,  0.0133],\n",
       "         [ 0.0239,  0.0025],\n",
       "         [-0.0096,  0.0159]]),\n",
       " tensor([[-1.4218,  1.6001],\n",
       "         [-0.5099, -2.2779],\n",
       "         [-1.4309,  0.7782]]),\n",
       " tensor([1.3475, 3.7677]),\n",
       " tensor([[-0.0351, -0.0286,  0.0063],\n",
       "         [-0.0268, -0.0109,  0.0138],\n",
       "         [ 0.0019, -0.0083, -0.0085],\n",
       "         [ 0.0043,  0.0253,  0.0172]]))"
      ]
     },
     "execution_count": 1,
     "metadata": {},
     "output_type": "execute_result"
    }
   ],
   "source": [
    "import torch\n",
    "from typing import Optional\n",
    "\n",
    "class Linear:\n",
    "    def __init__(self, n_inputs: int, n_neurons: int):\n",
    "        self.weights = torch.randn(n_inputs, n_neurons) * 0.01\n",
    "        self.biases = torch.randn(n_neurons) * 0.01\n",
    "        self.inputs: Optional[torch.Tensor] = None\n",
    "\n",
    "    def forward(self, inputs: torch.Tensor) -> torch.Tensor:\n",
    "        assert inputs.ndim == 2\n",
    "        self.inputs = inputs\n",
    "        return torch.mm(inputs, self.weights) + self.biases\n",
    "\n",
    "    def backward(self, dvalue: torch.Tensor) -> None:\n",
    "        self.dweights = torch.mm(self.inputs.T, dvalue)\n",
    "        self.dbiases = dvalue.sum(axis=0)\n",
    "\n",
    "        self.dinput = torch.mm(dvalue, self.weights.T)\n",
    "\n",
    "linear_layer = Linear(n_inputs=3, n_neurons=2)\n",
    "\n",
    "inputs = torch.randn(4, 3)\n",
    "\n",
    "output = linear_layer.forward(inputs)\n",
    "\n",
    "dvalue = torch.randn(4, 2)\n",
    "\n",
    "linear_layer.backward(dvalue)\n",
    "\n",
    "output, linear_layer.dweights, linear_layer.dbiases, linear_layer.dinput"
   ]
  },
  {
   "cell_type": "code",
   "execution_count": null,
   "id": "21d56f03-f7aa-4f56-a371-5f38a0c33eb6",
   "metadata": {},
   "outputs": [],
   "source": []
  }
 ],
 "metadata": {
  "kernelspec": {
   "display_name": "Python 3 (ipykernel)",
   "language": "python",
   "name": "python3"
  },
  "language_info": {
   "codemirror_mode": {
    "name": "ipython",
    "version": 3
   },
   "file_extension": ".py",
   "mimetype": "text/x-python",
   "name": "python",
   "nbconvert_exporter": "python",
   "pygments_lexer": "ipython3",
   "version": "3.9.18"
  }
 },
 "nbformat": 4,
 "nbformat_minor": 5
}

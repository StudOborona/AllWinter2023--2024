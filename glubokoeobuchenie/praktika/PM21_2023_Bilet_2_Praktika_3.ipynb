{
 "cells": [
  {
   "cell_type": "code",
   "execution_count": 9,
   "id": "26d41226-28b4-4b79-8d35-337ea7bd1b00",
   "metadata": {},
   "outputs": [
    {
     "name": "stdout",
     "output_type": "stream",
     "text": [
      "Files already downloaded and verified\n"
     ]
    },
    {
     "data": {
      "text/plain": [
       "tensor([[-0.0449,  0.0524,  0.0221,  0.0366,  0.0020,  0.0314, -0.1107, -0.0223,\n",
       "          0.0395, -0.0177],\n",
       "        [-0.0154,  0.0284,  0.0009,  0.0116, -0.0136,  0.0150, -0.0726, -0.0335,\n",
       "          0.0085, -0.0140],\n",
       "        [-0.0316,  0.0506, -0.0106,  0.0024,  0.0068,  0.0134, -0.0849, -0.0564,\n",
       "          0.0167, -0.0565],\n",
       "        [-0.0137,  0.0140, -0.0121, -0.0340,  0.0093,  0.0003, -0.0653, -0.0386,\n",
       "         -0.0072, -0.0023]])"
      ]
     },
     "execution_count": 9,
     "metadata": {},
     "output_type": "execute_result"
    }
   ],
   "source": [
    "import torch\n",
    "import torch.nn as nn\n",
    "import torch.nn.functional as F\n",
    "import torchvision\n",
    "import torchvision.transforms as transforms\n",
    "import os\n",
    "\n",
    "class CIFAR10CNN(nn.Module):\n",
    "    def __init__(self):\n",
    "        super(CIFAR10CNN, self).__init__()\n",
    "        self.conv1 = nn.Conv2d(3, 32, kernel_size=3, stride=1, padding=1)\n",
    "        self.conv2 = nn.Conv2d(32, 64, kernel_size=3, stride=1, padding=1)\n",
    "        self.pool = nn.MaxPool2d(kernel_size=2, stride=2, padding=0)\n",
    "        self.fc1 = nn.Linear(64 * 8 * 8, 512)\n",
    "        self.fc2 = nn.Linear(512, 10)\n",
    "\n",
    "    def forward(self, x):\n",
    "        x = self.pool(F.relu(self.conv1(x)))\n",
    "        x = self.pool(F.relu(self.conv2(x)))\n",
    "        x = x.view(-1, 64 * 8 * 8)\n",
    "        x = F.relu(self.fc1(x))\n",
    "        x = self.fc2(x)\n",
    "        return x\n",
    "\n",
    "transform = transforms.Compose([\n",
    "    transforms.ToTensor(),\n",
    "    transforms.Normalize((0.5, 0.5, 0.5), (0.5, 0.5, 0.5))\n",
    "])\n",
    "\n",
    "trainset = torchvision.datasets.CIFAR10(root='./data', train=True,\n",
    "                                        download=True, transform=transform)\n",
    "trainloader = torch.utils.data.DataLoader(trainset, batch_size=4,\n",
    "                                          shuffle=True, num_workers=os.cpu_count())\n",
    "\n",
    "net = CIFAR10CNN()\n",
    "\n",
    "device = torch.device(\"cuda:0\" if torch.cuda.is_available() else \"cpu\")\n",
    "net.to(device)\n",
    "\n",
    "dataiter = iter(trainloader)\n",
    "images, labels = next(dataiter)\n",
    "\n",
    "images = images.to(device)\n",
    "\n",
    "outputs = net(images)\n",
    "outputs.detach().cpu()"
   ]
  },
  {
   "cell_type": "code",
   "execution_count": 8,
   "id": "a5c94177-3145-4641-8123-ab0c9bf97eb5",
   "metadata": {},
   "outputs": [
    {
     "data": {
      "text/plain": [
       "tensor([[-0.0559, -0.0206,  0.0240,  0.0069,  0.0074,  0.0229,  0.0513,  0.0710,\n",
       "          0.0817, -0.0129],\n",
       "        [-0.0781, -0.0079, -0.0107, -0.0204,  0.0163,  0.0506,  0.0591,  0.0586,\n",
       "          0.1266, -0.0170],\n",
       "        [-0.0346, -0.0409,  0.0252,  0.0099, -0.0265,  0.0105,  0.0476,  0.0891,\n",
       "          0.0798, -0.0064],\n",
       "        [-0.0542, -0.0124, -0.0039, -0.0122, -0.0123,  0.0219,  0.0310,  0.0453,\n",
       "          0.0624,  0.0009]], device='cuda:0', grad_fn=<AddmmBackward0>)"
      ]
     },
     "execution_count": 8,
     "metadata": {},
     "output_type": "execute_result"
    }
   ],
   "source": [
    "outputs"
   ]
  },
  {
   "cell_type": "code",
   "execution_count": null,
   "id": "5b77379b-f8b5-4f9a-9bb6-a3818b3a2fe8",
   "metadata": {},
   "outputs": [],
   "source": []
  }
 ],
 "metadata": {
  "kernelspec": {
   "display_name": "Python 3 (ipykernel)",
   "language": "python",
   "name": "python3"
  },
  "language_info": {
   "codemirror_mode": {
    "name": "ipython",
    "version": 3
   },
   "file_extension": ".py",
   "mimetype": "text/x-python",
   "name": "python",
   "nbconvert_exporter": "python",
   "pygments_lexer": "ipython3",
   "version": "3.9.18"
  }
 },
 "nbformat": 4,
 "nbformat_minor": 5
}

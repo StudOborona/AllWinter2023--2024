{
 "cells": [
  {
   "cell_type": "markdown",
   "id": "addd256f-aa68-47a2-8ee0-673468b7f4dc",
   "metadata": {},
   "source": [
    "2 вопрос (20 баллов)\n",
    "Используя операции над матрицами и векторами из библиотеки PyTorch реализовать полносвязный слой с \n",
    "заданными весами weights и biases. Прогнать вектор inputs через слой и вывести результат. Входные данные \n",
    "обязательно должны быть в виде батчей (то есть кол-во измерений в inputs 2). Нельзя использовать готовые \n",
    "слои из PyTorch."
   ]
  },
  {
   "cell_type": "code",
   "execution_count": 1,
   "id": "86008763-7ce3-4c02-8b6f-d1c665d87ee4",
   "metadata": {},
   "outputs": [
    {
     "data": {
      "text/plain": [
       "tensor([[0.9000, 1.6000, 2.3000],\n",
       "        [1.9000, 3.4000, 4.9000]])"
      ]
     },
     "execution_count": 1,
     "metadata": {},
     "output_type": "execute_result"
    }
   ],
   "source": [
    "import torch\n",
    "\n",
    "weights = torch.tensor([[0.2, 0.3], [0.4, 0.5], [0.6, 0.7]])\n",
    "biases = torch.tensor([0.1, 0.2, 0.3])\n",
    "\n",
    "inputs = torch.tensor([[1.0, 2.0], [3.0, 4.0]])\n",
    "\n",
    "def fully_connected_layer(inputs, weights, biases):\n",
    "    return torch.matmul(inputs, weights.T) + biases\n",
    "\n",
    "output = fully_connected_layer(inputs, weights, biases)\n",
    "output"
   ]
  },
  {
   "cell_type": "code",
   "execution_count": 2,
   "id": "3dd30b1d-0a7d-4255-ba3e-9de1b9beb93f",
   "metadata": {},
   "outputs": [
    {
     "data": {
      "text/plain": [
       "tensor([[-2.3706, -0.0443, -1.2253],\n",
       "        [ 5.5826, -2.6309, -5.8763],\n",
       "        [-5.2606,  5.5569, -5.1942]])"
      ]
     },
     "execution_count": 2,
     "metadata": {},
     "output_type": "execute_result"
    }
   ],
   "source": [
    "#альтернатива\n",
    "\n",
    "import torch\n",
    "\n",
    "class Linear:\n",
    "    def __init__(self, n_features, n_neurons):\n",
    "        self.weights = torch.randn((n_features, n_neurons))\n",
    "        self.biases = torch.randn(n_neurons)\n",
    "  \n",
    "    def forward(self, inputs):\n",
    "        return (inputs @ self.weights) + self.biases  # torch.matmul(inputs, self.weights) + self.biases\n",
    "\n",
    "weights = torch.randn(4, 3)\n",
    "weights\n",
    "\n",
    "inputs = torch.tensor([[1, 2, 3, 2.5], \n",
    "                       [2, 5, -1, 2], \n",
    "                       [-1.5, 2.7, 3.3, -0.8]])\n",
    "inputs @ weights\n",
    "\n",
    "linear = Linear(n_features = 4, n_neurons = 3)\n",
    "linear.forward(inputs)"
   ]
  },
  {
   "cell_type": "code",
   "execution_count": null,
   "id": "17a91086-5ddb-4742-9aa3-6c5cc0d8eff3",
   "metadata": {},
   "outputs": [],
   "source": []
  }
 ],
 "metadata": {
  "kernelspec": {
   "display_name": "Python 3 (ipykernel)",
   "language": "python",
   "name": "python3"
  },
  "language_info": {
   "codemirror_mode": {
    "name": "ipython",
    "version": 3
   },
   "file_extension": ".py",
   "mimetype": "text/x-python",
   "name": "python",
   "nbconvert_exporter": "python",
   "pygments_lexer": "ipython3",
   "version": "3.9.18"
  }
 },
 "nbformat": 4,
 "nbformat_minor": 5
}

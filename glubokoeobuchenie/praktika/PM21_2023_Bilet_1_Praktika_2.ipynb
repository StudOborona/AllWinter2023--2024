{
 "cells": [
  {
   "cell_type": "markdown",
   "id": "bebd735c-0676-4337-b9c6-8519846ad954",
   "metadata": {},
   "source": [
    "2 вопрос (20 баллов)\n",
    "Задать два двумерных тензора ar1 и ar2 размерности (4, 7), состоящих из случайных целых чисел в пределах \n",
    "от 0 до 10. Построить двумерный тензор размерности (4, 7), каждый элемент которого представляет собой \n",
    "максимум из двух значений, находящихся на аналогичной позиции в тензорах ar1, ar2. "
   ]
  },
  {
   "cell_type": "code",
   "execution_count": 1,
   "id": "4afc01e8-7c3e-400a-946e-9007f19690ab",
   "metadata": {},
   "outputs": [
    {
     "data": {
      "text/plain": [
       "(tensor([[ 3,  5,  9,  0,  9,  2,  8],\n",
       "         [ 7,  7,  6,  9, 10, 10,  4],\n",
       "         [ 3,  6,  1,  0,  7,  7,  5],\n",
       "         [ 6,  3,  5,  1,  5,  4,  3]]),\n",
       " tensor([[ 0,  0,  7,  2,  7,  5,  2],\n",
       "         [ 8,  0,  4,  4,  9,  2,  7],\n",
       "         [ 1, 10,  5,  3,  7,  2,  3],\n",
       "         [ 8,  1,  9,  4,  7,  9,  7]]),\n",
       " tensor([[ 3,  5,  9,  2,  9,  5,  8],\n",
       "         [ 8,  7,  6,  9, 10, 10,  7],\n",
       "         [ 3, 10,  5,  3,  7,  7,  5],\n",
       "         [ 8,  3,  9,  4,  7,  9,  7]]))"
      ]
     },
     "execution_count": 1,
     "metadata": {},
     "output_type": "execute_result"
    }
   ],
   "source": [
    "import torch\n",
    "\n",
    "ar1 = torch.randint(0, 11, (4, 7))\n",
    "ar2 = torch.randint(0, 11, (4, 7))\n",
    "\n",
    "max_tensor = torch.max(ar1, ar2)\n",
    "\n",
    "ar1, ar2, max_tensor"
   ]
  },
  {
   "cell_type": "code",
   "execution_count": null,
   "id": "6eda99d3-b223-4ea6-b4e1-3b95bb23d4f8",
   "metadata": {},
   "outputs": [],
   "source": []
  }
 ],
 "metadata": {
  "kernelspec": {
   "display_name": "Python 3 (ipykernel)",
   "language": "python",
   "name": "python3"
  },
  "language_info": {
   "codemirror_mode": {
    "name": "ipython",
    "version": 3
   },
   "file_extension": ".py",
   "mimetype": "text/x-python",
   "name": "python",
   "nbconvert_exporter": "python",
   "pygments_lexer": "ipython3",
   "version": "3.9.18"
  }
 },
 "nbformat": 4,
 "nbformat_minor": 5
}
